{
  "nbformat": 4,
  "nbformat_minor": 0,
  "metadata": {
    "colab": {
      "name": "UAS Alif-3.ipynb",
      "provenance": []
    },
    "kernelspec": {
      "name": "python3",
      "display_name": "Python 3"
    },
    "language_info": {
      "name": "python"
    }
  },
  "cells": [
    {
      "cell_type": "code",
      "execution_count": null,
      "metadata": {
        "id": "SjLr5hkuBrz6"
      },
      "outputs": [],
      "source": [
        "import numpy as np\n",
        "import matplotlib.pyplot as plt\n",
        "import pandas as pd\n",
        "from sklearn.mixture import GaussianMixture\n",
        "from sklearn import metrics # for calculating Silhouette score\n",
        "from scipy.stats import multivariate_normal\n",
        "from scipy.stats import mode\n",
        "from sklearn.metrics import confusion_matrix"
      ]
    },
    {
      "cell_type": "code",
      "source": [
        "from google.colab import drive\n",
        "drive.mount('/content/drive')"
      ],
      "metadata": {
        "colab": {
          "base_uri": "https://localhost:8080/"
        },
        "id": "7E8orG3uBtka",
        "outputId": "47f9c12a-2557-4d68-a5bb-0b39f45cf8d9"
      },
      "execution_count": null,
      "outputs": [
        {
          "output_type": "stream",
          "name": "stdout",
          "text": [
            "Drive already mounted at /content/drive; to attempt to forcibly remount, call drive.mount(\"/content/drive\", force_remount=True).\n"
          ]
        }
      ]
    },
    {
      "cell_type": "code",
      "source": [
        "data = np.genfromtxt(\"/content/drive/MyDrive/Final/datacluster.csv\", dtype=float, delimiter=\",\", usecols=range(1,3), skip_header=1)\n",
        "data"
      ],
      "metadata": {
        "colab": {
          "base_uri": "https://localhost:8080/"
        },
        "id": "rH6BspZjBiEL",
        "outputId": "21b8c41a-ae14-477e-a7e4-9e204bfb4b2f"
      },
      "execution_count": null,
      "outputs": [
        {
          "output_type": "execute_result",
          "data": {
            "text/plain": [
              "array([[2.25, 3.47],\n",
              "       [4.71, 3.6 ],\n",
              "       [3.17, 4.96],\n",
              "       [2.32, 1.63],\n",
              "       [2.31, 2.09],\n",
              "       [1.14, 2.11],\n",
              "       [1.9 , 0.97],\n",
              "       [1.76, 0.84],\n",
              "       [5.02, 3.02],\n",
              "       [5.74, 3.84]])"
            ]
          },
          "metadata": {},
          "execution_count": 62
        }
      ]
    },
    {
      "cell_type": "code",
      "source": [
        "\n",
        "plt.scatter(data[:, 0], data[:, 1])\n",
        "plt.xlabel('x')\n",
        "plt.ylabel('y')\n",
        "plt.title('Data Distribution')\n",
        "plt.show()"
      ],
      "metadata": {
        "colab": {
          "base_uri": "https://localhost:8080/",
          "height": 295
        },
        "id": "Sn7Y2oiABGkk",
        "outputId": "79338c7a-1bc7-4035-b49e-c04e631091fa"
      },
      "execution_count": null,
      "outputs": [
        {
          "output_type": "display_data",
          "data": {
            "image/png": "[encoded data removed]",
            "text/plain": [
              "<Figure size 432x288 with 1 Axes>"
            ]
          },
          "metadata": {
            "needs_background": "light"
          }
        }
      ]
    },
    {
      "cell_type": "markdown",
      "source": [
        "#Clustering Using GMM Models"
      ],
      "metadata": {
        "id": "FQhREDOooIxO"
      }
    },
    {
      "cell_type": "code",
      "source": [
        "# Select data for clustering model\n",
        "\n",
        "# Set the model and its parameters - 2 clusters\n",
        "gmm = GaussianMixture(n_components=2, # this is the number of clusters\n",
        "                         covariance_type='spherical', # {‘full’, ‘tied’, ‘diag’, ‘spherical’}, default=’full’\n",
        "                         max_iter=100, # the number of EM iterations to perform. default=100\n",
        "                         n_init=1, # the number of initializations to perform. default = 1\n",
        "                         init_params='random', # the method used to initialize the weights, the means and the precisions. {'random' or default='k-means'}\n",
        "                         verbose=0, # default 0, {0,1,2}\n",
        "                         random_state=1 # for reproducibility\n",
        "                        )\n",
        "\n",
        "# Fit the model and predict labels\n",
        "gmm.fit(data)\n",
        "gmm.predict(data)\n",
        "\n",
        "\n",
        "# Print model summary\n",
        "print('*************** 2 Cluster Model ***************')\n",
        "  print('Means: ', gmm.fit(data).means_)\n",
        "print('Converged: ', gmm.fit(data).converged_)\n",
        "print(' No. of Iterations: ', gmm.fit(data).n_iter_)\n"
      ],
      "metadata": {
        "colab": {
          "base_uri": "https://localhost:8080/"
        },
        "id": "2EUWO7UFFBFr",
        "outputId": "ad4d4c5c-7e04-4451-8c60-1c4eee455409"
      },
      "execution_count": null,
      "outputs": [
        {
          "output_type": "stream",
          "name": "stdout",
          "text": [
            "*************** 4 Cluster Model ***************\n",
            "Means:  [[4.16235163 3.76167183]\n",
            " [1.88391687 1.52693676]]\n",
            "Converged:  True\n",
            " No. of Iterations:  16\n"
          ]
        }
      ]
    },
    {
      "cell_type": "code",
      "source": [
        "plt.scatter(data[:, 0], data[:, 1], c=gmm.predict(data))\n",
        "plt.xlabel('x')\n",
        "plt.ylabel('y')\n",
        "plt.title('Data Distribution')\n",
        "plt.show()"
      ],
      "metadata": {
        "colab": {
          "base_uri": "https://localhost:8080/",
          "height": 295
        },
        "id": "Lw09ki0poXn6",
        "outputId": "57611e8c-db41-4e00-9e3f-d1cf83091e1a"
      },
      "execution_count": null,
      "outputs": [
        {
          "output_type": "display_data",
          "data": {
            "image/png": "[encoded data removed]",
            "text/plain": [
              "<Figure size 432x288 with 1 Axes>"
            ]
          },
          "metadata": {
            "needs_background": "light"
          }
        }
      ]
    },
    {
      "cell_type": "markdown",
      "source": [
        "##Updating GMM using EM Algorithm"
      ],
      "metadata": {
        "id": "mnlldG0RpBST"
      }
    },
    {
      "cell_type": "code",
      "source": [
        "class GMM:\n",
        "    def __init__(self, k, max_iter=100):\n",
        "        self.k = k\n",
        "        self.max_iter = int(max_iter)\n",
        "\n",
        "    def initialize(self, X):\n",
        "        self.shape = X.shape\n",
        "        self.n, self.m = self.shape\n",
        "\n",
        "        self.phi = np.full(shape=self.k, fill_value=1/self.k)\n",
        "        self.weights = np.full( shape=self.shape, fill_value=1/self.k)\n",
        "        \n",
        "        random_row = np.random.randint(low=0, high=self.n, size=self.k)\n",
        "        self.mu = [  X[row_index,:] for row_index in random_row ]\n",
        "        self.sigma = [ np.cov(X.T) for _ in range(self.k) ]\n",
        "\n",
        "    def e_step(self, X):\n",
        "        # E-Step: update weights and phi holding mu and sigma constant\n",
        "        self.weights = self.predict_proba(X)\n",
        "        self.phi = self.weights.mean(axis=0)\n",
        "    \n",
        "    def m_step(self, X):\n",
        "        # M-Step: update mu and sigma holding phi and weights constant\n",
        "        for i in range(self.k):\n",
        "            weight = self.weights[:, [i]]\n",
        "            total_weight = weight.sum()\n",
        "            self.mu[i] = (X * weight).sum(axis=0) / total_weight\n",
        "            self.sigma[i] = np.cov(X.T, \n",
        "                aweights=(weight/total_weight).flatten(), \n",
        "                bias=True)\n",
        "\n",
        "    def fit(self, X):\n",
        "        self.initialize(X)\n",
        "        \n",
        "        for iteration in range(self.max_iter):\n",
        "            self.e_step(X)\n",
        "            self.m_step(X)\n",
        "            \n",
        "    def predict_proba(self, X):\n",
        "        likelihood = np.zeros( (self.n, self.k) )\n",
        "        for i in range(self.k):\n",
        "            distribution = multivariate_normal(\n",
        "                mean=self.mu[i], \n",
        "                cov=self.sigma[i])\n",
        "            likelihood[:,i] = distribution.pdf(X)\n",
        "        \n",
        "        numerator = likelihood * self.phi\n",
        "        denominator = numerator.sum(axis=1)[:, np.newaxis]\n",
        "        weights = numerator / denominator\n",
        "        return weights\n",
        "    \n",
        "    def predict(self, X):\n",
        "        weights = self.predict_proba(X)\n",
        "        return np.argmax(weights, axis=1)"
      ],
      "metadata": {
        "id": "XW_PiAI0jhA2"
      },
      "execution_count": null,
      "outputs": []
    },
    {
      "cell_type": "code",
      "source": [
        "np.random.seed(8)\n",
        "gmm_em = GMM(k=2)\n",
        "gmm_em.fit(data)"
      ],
      "metadata": {
        "id": "CGH93luPjj3J"
      },
      "execution_count": null,
      "outputs": []
    },
    {
      "cell_type": "code",
      "source": [
        "plt.scatter(data[:, 0], data[:, 1], c=gmm_em.predict(data))\n",
        "plt.xlabel('x')\n",
        "plt.ylabel('y')\n",
        "plt.title('Data Distribution')\n",
        "plt.show()"
      ],
      "metadata": {
        "colab": {
          "base_uri": "https://localhost:8080/",
          "height": 295
        },
        "id": "fZej9GFsGJDN",
        "outputId": "affaffd3-6fbc-4f99-d0e1-d0e6997a63f4"
      },
      "execution_count": null,
      "outputs": [
        {
          "output_type": "display_data",
          "data": {
            "image/png": "[encoded data removed]",
            "text/plain": [
              "<Figure size 432x288 with 1 Axes>"
            ]
          },
          "metadata": {
            "needs_background": "light"
          }
        }
      ]
    },
    {
      "cell_type": "code",
      "source": [
        "from sklearn.metrics import accuracy_score"
      ],
      "metadata": {
        "id": "AMrPCV2JI1FZ"
      },
      "execution_count": null,
      "outputs": []
    },
    {
      "cell_type": "code",
      "source": [
        "def purity_score(y_true, y_pred):\n",
        "    \"\"\"Purity score\n",
        "\n",
        "    To compute purity, each cluster is assigned to the class which is most frequent \n",
        "    in the cluster [1], and then the accuracy of this assignment is measured by counting \n",
        "    the number of correctly assigned documents and dividing by the number of documents.\n",
        "    We suppose here that the ground truth labels are integers, the same with the predicted clusters i.e\n",
        "    the clusters index.\n",
        "\n",
        "    Args:\n",
        "        y_true(np.ndarray): n*1 matrix Ground truth labels\n",
        "        y_pred(np.ndarray): n*1 matrix Predicted clusters\n",
        "    \n",
        "    Returns:\n",
        "        float: Purity score\n",
        "    \n",
        "    References:\n",
        "        [1] https://nlp.stanford.edu/IR-book/html/htmledition/evaluation-of-clustering-1.html\n",
        "    \"\"\"\n",
        "    # matrix which will hold the majority-voted labels\n",
        "    y_voted_labels = np.zeros(y_true.shape)\n",
        "    # Ordering labels\n",
        "    ## Labels might be missing e.g with set like 0,2 where 1 is missing\n",
        "    ## First find the unique labels, then map the labels to an ordered set\n",
        "    ## 0,2 should become 0,1\n",
        "    labels = np.unique(y_true)\n",
        "    ordered_labels = np.arange(labels.shape[0])\n",
        "    for k in range(labels.shape[0]):\n",
        "        y_true[y_true==labels[k]] = ordered_labels[k]\n",
        "    # Update unique labels\n",
        "    labels = np.unique(y_true)\n",
        "    # We set the number of bins to be n_classes+2 so that \n",
        "    # we count the actual occurence of classes between two consecutive bin\n",
        "    # the bigger being excluded [bin_i, bin_i+1[\n",
        "    bins = np.concatenate((labels, [np.max(labels)+1]), axis=0)\n",
        "\n",
        "    for cluster in np.unique(y_pred):\n",
        "        hist, _ = np.histogram(y_true[y_pred==cluster], bins=bins)\n",
        "        # Find the most present label in the cluster\n",
        "        winner = np.argmax(hist)\n",
        "        y_voted_labels[y_pred==cluster] = winner\n",
        "    \n",
        "    return accuracy_score(y_true, y_voted_labels)"
      ],
      "metadata": {
        "id": "JpMmeh7-pPmL"
      },
      "execution_count": null,
      "outputs": []
    },
    {
      "cell_type": "code",
      "source": [
        "y_true = gmm.predict(data)\n",
        "y_pred = gmm_em.predict(data)\n",
        "\n",
        "print(purity_score(y_true,y_pred))"
      ],
      "metadata": {
        "colab": {
          "base_uri": "https://localhost:8080/"
        },
        "id": "O7jsXFoUpSjs",
        "outputId": "5abb55c4-1f07-4e53-f054-28347230ac11"
      },
      "execution_count": null,
      "outputs": [
        {
          "output_type": "stream",
          "name": "stdout",
          "text": [
            "0.8\n"
          ]
        }
      ]
    },
    {
      "cell_type": "code",
      "source": [
        "from sklearn.metrics.cluster import adjusted_rand_score"
      ],
      "metadata": {
        "id": "_3LAzACqpVLq"
      },
      "execution_count": null,
      "outputs": []
    },
    {
      "cell_type": "code",
      "source": [
        "print(adjusted_rand_score(y_true,y_pred))"
      ],
      "metadata": {
        "colab": {
          "base_uri": "https://localhost:8080/"
        },
        "id": "lAqnZlStpXH5",
        "outputId": "b5b13fe6-d118-4ed6-e5af-f67ae4f98002"
      },
      "execution_count": null,
      "outputs": [
        {
          "output_type": "stream",
          "name": "stdout",
          "text": [
            "0.29411764705882354\n"
          ]
        }
      ]
    }
  ]
}